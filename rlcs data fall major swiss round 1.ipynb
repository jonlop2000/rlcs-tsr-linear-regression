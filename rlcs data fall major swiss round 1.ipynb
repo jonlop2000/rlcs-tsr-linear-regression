{
 "cells": [
  {
   "cell_type": "code",
   "execution_count": 24,
   "id": "104cfd4b",
   "metadata": {},
   "outputs": [],
   "source": [
    "import pandas as pd\n",
    "import matplotlib.pyplot as plt\n",
    "import numpy as np\n",
    "import seaborn as sns\n",
    "from sklearn.linear_model import LinearRegression\n",
    "from sklearn.model_selection import train_test_split"
   ]
  },
  {
   "cell_type": "markdown",
   "id": "8a4a803d",
   "metadata": {},
   "source": [
    "# All Fall Major Stats "
   ]
  },
  {
   "cell_type": "code",
   "execution_count": 15,
   "id": "5ea2103c",
   "metadata": {
    "scrolled": true
   },
   "outputs": [
    {
     "name": "stdout",
     "output_type": "stream",
     "text": [
      "         team name  games  wins  win percentage  score  score per game  goals  \\\n",
      "0        RENEGADES     17     7           41.18  17685         1040.29     23   \n",
      "1      GROUND ZERO     17     8           47.06  16377          963.35     22   \n",
      "2       G2 ESPORTS     19     9           47.37  21888         1152.00     42   \n",
      "3    TEAM VITALITY     16     5           31.25  17050         1065.62     23   \n",
      "4     ENDPOINT CEX     28    14           50.00  31475         1124.11     47   \n",
      "..             ...    ...   ...             ...    ...             ...    ...   \n",
      "107   CHAR PHOENIX     23    11           47.83  25696         1117.22     35   \n",
      "108       VIBRANCE     13     4           30.77  16442         1264.77     22   \n",
      "109           XSET     16     6           37.50  17853         1115.81     29   \n",
      "110            SSG     25    14           56.00  27503         1100.12     41   \n",
      "111     COMPLEXITY     30    16           53.33  31265         1042.17     42   \n",
      "\n",
      "     goals per game  assists  assists per game  ...  \\\n",
      "0              1.35       18              1.06  ...   \n",
      "1              1.29       18              1.06  ...   \n",
      "2              2.21       37              1.95  ...   \n",
      "3              1.44       18              1.12  ...   \n",
      "4              1.68       39              1.39  ...   \n",
      "..              ...      ...               ...  ...   \n",
      "107            1.52       27              1.17  ...   \n",
      "108            1.69       18              1.38  ...   \n",
      "109            1.81       24              1.50  ...   \n",
      "110            1.64       24              0.96  ...   \n",
      "111            1.40       28              0.93  ...   \n",
      "\n",
      "     time neutral third per game  time offensive third  \\\n",
      "0                         344.67               3642.34   \n",
      "1                         310.02               3480.33   \n",
      "2                         377.86               4835.65   \n",
      "3                         318.86               2897.02   \n",
      "4                         367.59               6427.12   \n",
      "..                           ...                   ...   \n",
      "107                       369.60               4758.36   \n",
      "108                       383.54               3015.67   \n",
      "109                       371.66               3687.90   \n",
      "110                       377.51               6210.06   \n",
      "111                       354.80               6284.43   \n",
      "\n",
      "     time offensive third per game  avg distance to ball per game  \\\n",
      "0                           214.26                        8920.71   \n",
      "1                           204.73                        8624.53   \n",
      "2                           254.51                        8701.95   \n",
      "3                           181.06                        8169.50   \n",
      "4                           229.54                        8643.50   \n",
      "..                             ...                            ...   \n",
      "107                         206.89                        8837.22   \n",
      "108                         231.97                        8601.38   \n",
      "109                         230.49                        8702.44   \n",
      "110                         248.40                        8903.60   \n",
      "111                         209.48                        9093.23   \n",
      "\n",
      "     avg distance to ball has possession per game  \\\n",
      "0                                         8549.35   \n",
      "1                                         8289.65   \n",
      "2                                         8314.11   \n",
      "3                                         7724.81   \n",
      "4                                         8278.86   \n",
      "..                                            ...   \n",
      "107                                       8463.00   \n",
      "108                                       8291.62   \n",
      "109                                       8283.75   \n",
      "110                                       8560.16   \n",
      "111                                       8683.40   \n",
      "\n",
      "     avg distance to ball no possession per game  demos inflicted  \\\n",
      "0                                        9283.35               72   \n",
      "1                                        8959.24               46   \n",
      "2                                        9130.68               64   \n",
      "3                                        8560.31               34   \n",
      "4                                        8955.75               74   \n",
      "..                                           ...              ...   \n",
      "107                                      9179.96               62   \n",
      "108                                      8915.23               50   \n",
      "109                                      9039.00               66   \n",
      "110                                      9252.60              103   \n",
      "111                                      9457.23               81   \n",
      "\n",
      "     demos inflicted per game  demos taken  demos taken per game  \n",
      "0                        4.24           51                  3.00  \n",
      "1                        2.71           51                  3.00  \n",
      "2                        3.37           62                  3.26  \n",
      "3                        2.12           56                  3.50  \n",
      "4                        2.64           93                  3.32  \n",
      "..                        ...          ...                   ...  \n",
      "107                      2.70           87                  3.78  \n",
      "108                      3.85           47                  3.62  \n",
      "109                      4.12           70                  4.38  \n",
      "110                      4.12           84                  3.36  \n",
      "111                      2.70          103                  3.43  \n",
      "\n",
      "[112 rows x 91 columns]\n"
     ]
    }
   ],
   "source": [
    "rlcs_data = pd.read_csv('rlcs-fall-major-data.csv')\n",
    "print(rlcs_data)"
   ]
  },
  {
   "cell_type": "code",
   "execution_count": 16,
   "id": "607e0fb5",
   "metadata": {},
   "outputs": [
    {
     "data": {
      "text/html": [
       "<div>\n",
       "<style scoped>\n",
       "    .dataframe tbody tr th:only-of-type {\n",
       "        vertical-align: middle;\n",
       "    }\n",
       "\n",
       "    .dataframe tbody tr th {\n",
       "        vertical-align: top;\n",
       "    }\n",
       "\n",
       "    .dataframe thead th {\n",
       "        text-align: right;\n",
       "    }\n",
       "</style>\n",
       "<table border=\"1\" class=\"dataframe\">\n",
       "  <thead>\n",
       "    <tr style=\"text-align: right;\">\n",
       "      <th></th>\n",
       "      <th>team name</th>\n",
       "      <th>games</th>\n",
       "      <th>wins</th>\n",
       "      <th>win percentage</th>\n",
       "      <th>score</th>\n",
       "      <th>score per game</th>\n",
       "      <th>goals</th>\n",
       "      <th>goals per game</th>\n",
       "      <th>assists</th>\n",
       "      <th>assists per game</th>\n",
       "      <th>...</th>\n",
       "      <th>time neutral third per game</th>\n",
       "      <th>time offensive third</th>\n",
       "      <th>time offensive third per game</th>\n",
       "      <th>avg distance to ball per game</th>\n",
       "      <th>avg distance to ball has possession per game</th>\n",
       "      <th>avg distance to ball no possession per game</th>\n",
       "      <th>demos inflicted</th>\n",
       "      <th>demos inflicted per game</th>\n",
       "      <th>demos taken</th>\n",
       "      <th>demos taken per game</th>\n",
       "    </tr>\n",
       "  </thead>\n",
       "  <tbody>\n",
       "    <tr>\n",
       "      <th>0</th>\n",
       "      <td>RENEGADES</td>\n",
       "      <td>17</td>\n",
       "      <td>7</td>\n",
       "      <td>41.18</td>\n",
       "      <td>17685</td>\n",
       "      <td>1040.29</td>\n",
       "      <td>23</td>\n",
       "      <td>1.35</td>\n",
       "      <td>18</td>\n",
       "      <td>1.06</td>\n",
       "      <td>...</td>\n",
       "      <td>344.67</td>\n",
       "      <td>3642.34</td>\n",
       "      <td>214.26</td>\n",
       "      <td>8920.71</td>\n",
       "      <td>8549.35</td>\n",
       "      <td>9283.35</td>\n",
       "      <td>72</td>\n",
       "      <td>4.24</td>\n",
       "      <td>51</td>\n",
       "      <td>3.00</td>\n",
       "    </tr>\n",
       "    <tr>\n",
       "      <th>1</th>\n",
       "      <td>GROUND ZERO</td>\n",
       "      <td>17</td>\n",
       "      <td>8</td>\n",
       "      <td>47.06</td>\n",
       "      <td>16377</td>\n",
       "      <td>963.35</td>\n",
       "      <td>22</td>\n",
       "      <td>1.29</td>\n",
       "      <td>18</td>\n",
       "      <td>1.06</td>\n",
       "      <td>...</td>\n",
       "      <td>310.02</td>\n",
       "      <td>3480.33</td>\n",
       "      <td>204.73</td>\n",
       "      <td>8624.53</td>\n",
       "      <td>8289.65</td>\n",
       "      <td>8959.24</td>\n",
       "      <td>46</td>\n",
       "      <td>2.71</td>\n",
       "      <td>51</td>\n",
       "      <td>3.00</td>\n",
       "    </tr>\n",
       "    <tr>\n",
       "      <th>2</th>\n",
       "      <td>G2 ESPORTS</td>\n",
       "      <td>19</td>\n",
       "      <td>9</td>\n",
       "      <td>47.37</td>\n",
       "      <td>21888</td>\n",
       "      <td>1152.00</td>\n",
       "      <td>42</td>\n",
       "      <td>2.21</td>\n",
       "      <td>37</td>\n",
       "      <td>1.95</td>\n",
       "      <td>...</td>\n",
       "      <td>377.86</td>\n",
       "      <td>4835.65</td>\n",
       "      <td>254.51</td>\n",
       "      <td>8701.95</td>\n",
       "      <td>8314.11</td>\n",
       "      <td>9130.68</td>\n",
       "      <td>64</td>\n",
       "      <td>3.37</td>\n",
       "      <td>62</td>\n",
       "      <td>3.26</td>\n",
       "    </tr>\n",
       "    <tr>\n",
       "      <th>3</th>\n",
       "      <td>TEAM VITALITY</td>\n",
       "      <td>16</td>\n",
       "      <td>5</td>\n",
       "      <td>31.25</td>\n",
       "      <td>17050</td>\n",
       "      <td>1065.62</td>\n",
       "      <td>23</td>\n",
       "      <td>1.44</td>\n",
       "      <td>18</td>\n",
       "      <td>1.12</td>\n",
       "      <td>...</td>\n",
       "      <td>318.86</td>\n",
       "      <td>2897.02</td>\n",
       "      <td>181.06</td>\n",
       "      <td>8169.50</td>\n",
       "      <td>7724.81</td>\n",
       "      <td>8560.31</td>\n",
       "      <td>34</td>\n",
       "      <td>2.12</td>\n",
       "      <td>56</td>\n",
       "      <td>3.50</td>\n",
       "    </tr>\n",
       "    <tr>\n",
       "      <th>4</th>\n",
       "      <td>ENDPOINT CEX</td>\n",
       "      <td>28</td>\n",
       "      <td>14</td>\n",
       "      <td>50.00</td>\n",
       "      <td>31475</td>\n",
       "      <td>1124.11</td>\n",
       "      <td>47</td>\n",
       "      <td>1.68</td>\n",
       "      <td>39</td>\n",
       "      <td>1.39</td>\n",
       "      <td>...</td>\n",
       "      <td>367.59</td>\n",
       "      <td>6427.12</td>\n",
       "      <td>229.54</td>\n",
       "      <td>8643.50</td>\n",
       "      <td>8278.86</td>\n",
       "      <td>8955.75</td>\n",
       "      <td>74</td>\n",
       "      <td>2.64</td>\n",
       "      <td>93</td>\n",
       "      <td>3.32</td>\n",
       "    </tr>\n",
       "  </tbody>\n",
       "</table>\n",
       "<p>5 rows × 91 columns</p>\n",
       "</div>"
      ],
      "text/plain": [
       "       team name  games  wins  win percentage  score  score per game  goals  \\\n",
       "0      RENEGADES     17     7           41.18  17685         1040.29     23   \n",
       "1    GROUND ZERO     17     8           47.06  16377          963.35     22   \n",
       "2     G2 ESPORTS     19     9           47.37  21888         1152.00     42   \n",
       "3  TEAM VITALITY     16     5           31.25  17050         1065.62     23   \n",
       "4   ENDPOINT CEX     28    14           50.00  31475         1124.11     47   \n",
       "\n",
       "   goals per game  assists  assists per game  ...  \\\n",
       "0            1.35       18              1.06  ...   \n",
       "1            1.29       18              1.06  ...   \n",
       "2            2.21       37              1.95  ...   \n",
       "3            1.44       18              1.12  ...   \n",
       "4            1.68       39              1.39  ...   \n",
       "\n",
       "   time neutral third per game  time offensive third  \\\n",
       "0                       344.67               3642.34   \n",
       "1                       310.02               3480.33   \n",
       "2                       377.86               4835.65   \n",
       "3                       318.86               2897.02   \n",
       "4                       367.59               6427.12   \n",
       "\n",
       "   time offensive third per game  avg distance to ball per game  \\\n",
       "0                         214.26                        8920.71   \n",
       "1                         204.73                        8624.53   \n",
       "2                         254.51                        8701.95   \n",
       "3                         181.06                        8169.50   \n",
       "4                         229.54                        8643.50   \n",
       "\n",
       "   avg distance to ball has possession per game  \\\n",
       "0                                       8549.35   \n",
       "1                                       8289.65   \n",
       "2                                       8314.11   \n",
       "3                                       7724.81   \n",
       "4                                       8278.86   \n",
       "\n",
       "   avg distance to ball no possession per game  demos inflicted  \\\n",
       "0                                      9283.35               72   \n",
       "1                                      8959.24               46   \n",
       "2                                      9130.68               64   \n",
       "3                                      8560.31               34   \n",
       "4                                      8955.75               74   \n",
       "\n",
       "   demos inflicted per game  demos taken  demos taken per game  \n",
       "0                      4.24           51                  3.00  \n",
       "1                      2.71           51                  3.00  \n",
       "2                      3.37           62                  3.26  \n",
       "3                      2.12           56                  3.50  \n",
       "4                      2.64           93                  3.32  \n",
       "\n",
       "[5 rows x 91 columns]"
      ]
     },
     "execution_count": 16,
     "metadata": {},
     "output_type": "execute_result"
    }
   ],
   "source": [
    "rlcs_data.head()"
   ]
  },
  {
   "cell_type": "code",
   "execution_count": 17,
   "id": "b857faed",
   "metadata": {},
   "outputs": [
    {
     "data": {
      "text/plain": [
       "Index(['team name', 'games', 'wins', 'win percentage', 'score',\n",
       "       'score per game', 'goals', 'goals per game', 'assists',\n",
       "       'assists per game', 'saves', 'saves per game', 'shots',\n",
       "       'shots per game', 'shots conceded', 'shots conceded per game',\n",
       "       'goals conceded', 'goals conceded per game', 'shooting percentage',\n",
       "       'bpm per game', 'avg boost amount per game', 'amount collected',\n",
       "       'amount collected per game', 'amount collected big pads',\n",
       "       'amount collected big pads per game', 'amount collected small pads',\n",
       "       'amount collected small pads per game', 'count collected big pads',\n",
       "       'count collected big pads per game', 'count collected small pads',\n",
       "       'count collected small pads per game', 'amount stolen',\n",
       "       'amount stolen per game', 'amount stolen big pads',\n",
       "       'amount stolen big pads per game', 'amount stolen small pads',\n",
       "       'amount stolen small pads per game', 'count stolen big pads',\n",
       "       'count stolen big pads per game', 'count stolen small pads',\n",
       "       'count stolen small pads per game', '0 boost time',\n",
       "       '0 boost time per game', '100 boost time', '100 boost time per game',\n",
       "       'amount used while supersonic', 'amount used while supersonic per game',\n",
       "       'amount overfill total', 'amount overfill total per game',\n",
       "       'amount overfill stolen', 'amount overfill stolen per game',\n",
       "       'total distance', 'total distance per game', 'time slow speed',\n",
       "       'time slow speed per game', 'time boost speed',\n",
       "       'time boost speed per game', 'time supersonic speed',\n",
       "       'time supersonic speed per game', 'time on ground',\n",
       "       'time on ground per game', 'time low in air',\n",
       "       'time low in air per game', 'time high in air',\n",
       "       'time high in air per game', 'time powerslide',\n",
       "       'time powerslide per game', 'avg powerslide time per game',\n",
       "       'count powerslide', 'count powerslide per game', 'time behind ball',\n",
       "       'time behind ball per game', 'time in front of ball',\n",
       "       'time in front of ball per game', 'time defensive half',\n",
       "       'time defensive half per game', 'time offensive half',\n",
       "       'time offensive half per game', 'time defensive third',\n",
       "       'time defensive third per game', 'time neutral third',\n",
       "       'time neutral third per game', 'time offensive third',\n",
       "       'time offensive third per game', 'avg distance to ball per game',\n",
       "       'avg distance to ball has possession per game',\n",
       "       'avg distance to ball no possession per game', 'demos inflicted',\n",
       "       'demos inflicted per game', 'demos taken', 'demos taken per game'],\n",
       "      dtype='object')"
      ]
     },
     "execution_count": 17,
     "metadata": {},
     "output_type": "execute_result"
    }
   ],
   "source": [
    "rlcs_data.columns"
   ]
  },
  {
   "cell_type": "markdown",
   "id": "6956392e",
   "metadata": {},
   "source": [
    "## Total Shot Ratio (TSR)"
   ]
  },
  {
   "cell_type": "code",
   "execution_count": 18,
   "id": "2aeed705",
   "metadata": {},
   "outputs": [
    {
     "name": "stdout",
     "output_type": "stream",
     "text": [
      "         team name  win percentage  shots per game  shots conceded per game\n",
      "0        RENEGADES           41.18            8.06                     8.76\n",
      "1      GROUND ZERO           47.06            7.00                     7.94\n",
      "2       G2 ESPORTS           47.37            9.42                     7.84\n",
      "3    TEAM VITALITY           31.25            7.94                    10.00\n",
      "4     ENDPOINT CEX           50.00            9.18                     8.93\n",
      "..             ...             ...             ...                      ...\n",
      "107   CHAR PHOENIX           47.83            8.00                     8.91\n",
      "108       VIBRANCE           30.77            7.08                    10.38\n",
      "109           XSET           37.50            8.69                     8.06\n",
      "110            SSG           56.00            8.72                     7.68\n",
      "111     COMPLEXITY           53.33            8.10                     8.73\n",
      "\n",
      "[112 rows x 4 columns]\n"
     ]
    }
   ],
   "source": [
    "print(rlcs_data[[\"team name\",\"win percentage\",\"shots per game\", \"shots conceded per game\"]])"
   ]
  },
  {
   "cell_type": "code",
   "execution_count": 19,
   "id": "6a316a47",
   "metadata": {},
   "outputs": [],
   "source": [
    "win_percentage = rlcs_data[\"win percentage\"]\n",
    "shots_con_pg = rlcs_data[\"shots conceded per game\"]\n",
    "shots_pg = rlcs_data[\"shots per game\"]"
   ]
  },
  {
   "cell_type": "code",
   "execution_count": 45,
   "id": "2cd1de84",
   "metadata": {},
   "outputs": [],
   "source": [
    "tsr = ((shots_pg)/(shots_pg + shots_con_pg))"
   ]
  },
  {
   "cell_type": "markdown",
   "id": "a458b8c5",
   "metadata": {},
   "source": [
    "## Linear Regression Model\n"
   ]
  },
  {
   "cell_type": "code",
   "execution_count": 47,
   "id": "5e370a3b",
   "metadata": {},
   "outputs": [
    {
     "data": {
      "text/plain": [
       "<matplotlib.collections.PathCollection at 0x1b2179ed760>"
      ]
     },
     "execution_count": 47,
     "metadata": {},
     "output_type": "execute_result"
    },
    {
     "data": {
      "image/png": "[encoded data removed]",
      "text/plain": [
       "<Figure size 432x288 with 1 Axes>"
      ]
     },
     "metadata": {
      "needs_background": "light"
     },
     "output_type": "display_data"
    }
   ],
   "source": [
    "plt.xlabel('Total Shot Ratio')\n",
    "plt.ylabel('Win Percentage')\n",
    "\n",
    "plt.scatter(tsr,win_percentage)"
   ]
  },
  {
   "cell_type": "code",
   "execution_count": 48,
   "id": "b5c2aeed",
   "metadata": {},
   "outputs": [],
   "source": [
    "#Test Train split for supervised training \n",
    "x_train, x_test, y_train, y_test = train_test_split(tsr, win_percentage)"
   ]
  },
  {
   "cell_type": "code",
   "execution_count": 49,
   "id": "fa2e1c41",
   "metadata": {},
   "outputs": [
    {
     "data": {
      "image/png": "[encoded data removed]",
      "text/plain": [
       "<Figure size 432x288 with 1 Axes>"
      ]
     },
     "metadata": {
      "needs_background": "light"
     },
     "output_type": "display_data"
    }
   ],
   "source": [
    "plt.scatter(x_train, y_train, label = 'Training Data', color = 'r', alpha =.7)\n",
    "plt.scatter(x_test, y_test, label = 'Testing Data', color = 'g', alpha =.7)\n",
    "plt.legend()\n",
    "plt.title(\"Test train data\")\n",
    "plt.show()"
   ]
  },
  {
   "cell_type": "code",
   "execution_count": 50,
   "id": "5827b95b",
   "metadata": {},
   "outputs": [
    {
     "data": {
      "text/plain": [
       "LinearRegression()"
      ]
     },
     "execution_count": 50,
     "metadata": {},
     "output_type": "execute_result"
    }
   ],
   "source": [
    "# Create linear model and train it\n",
    "LR = LinearRegression()\n",
    "LR.fit(x_train.values.reshape(-1,1), y_train.values)"
   ]
  },
  {
   "cell_type": "code",
   "execution_count": 51,
   "id": "50b9f736",
   "metadata": {},
   "outputs": [
    {
     "data": {
      "image/png": "[encoded data removed]",
      "text/plain": [
       "<Figure size 432x288 with 1 Axes>"
      ]
     },
     "metadata": {
      "needs_background": "light"
     },
     "output_type": "display_data"
    }
   ],
   "source": [
    "prediction = LR.predict(x_test.values.reshape(-1,1))\n",
    "\n",
    "plt.plot(x_test, prediction, label = 'Linear Regression', color = 'b')\n",
    "plt.scatter(x_test, y_test, label = 'Actual Test Data', color = 'g', alpha =.7)\n",
    "plt.legend()\n",
    "plt.show()"
   ]
  },
  {
   "cell_type": "code",
   "execution_count": 52,
   "id": "56acbb5e",
   "metadata": {},
   "outputs": [
    {
     "data": {
      "text/plain": [
       "48.5349242196005"
      ]
     },
     "execution_count": 52,
     "metadata": {},
     "output_type": "execute_result"
    }
   ],
   "source": [
    "LR.predict(np.array([[.5]]))[0]"
   ]
  },
  {
   "cell_type": "code",
   "execution_count": 53,
   "id": "4817eb3f",
   "metadata": {},
   "outputs": [
    {
     "data": {
      "text/plain": [
       "0.42625082715262785"
      ]
     },
     "execution_count": 53,
     "metadata": {},
     "output_type": "execute_result"
    }
   ],
   "source": [
    "LR.score(x_test.values.reshape(-1,1),y_test.values)"
   ]
  }
 ],
 "metadata": {
  "kernelspec": {
   "display_name": "Python 3",
   "language": "python",
   "name": "python3"
  },
  "language_info": {
   "codemirror_mode": {
    "name": "ipython",
    "version": 3
   },
   "file_extension": ".py",
   "mimetype": "text/x-python",
   "name": "python",
   "nbconvert_exporter": "python",
   "pygments_lexer": "ipython3",
   "version": "3.8.8"
  }
 },
 "nbformat": 4,
 "nbformat_minor": 5
}
